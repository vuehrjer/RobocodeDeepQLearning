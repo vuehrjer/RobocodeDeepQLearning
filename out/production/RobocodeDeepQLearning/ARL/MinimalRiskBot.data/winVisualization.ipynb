{
 "cells": [
  {
   "cell_type": "code",
   "execution_count": 10,
   "metadata": {
    "scrolled": false
   },
   "outputs": [
    {
     "data": {
      "image/png": "[encoded data removed]",
      "text/plain": [
       "<Figure size 432x288 with 1 Axes>"
      ]
     },
     "metadata": {
      "needs_background": "light"
     },
     "output_type": "display_data"
    }
   ],
   "source": [
    "import numpy as np\n",
    "import matplotlib.pyplot as plt\n",
    "from matplotlib.legend_handler import HandlerLine2D\n",
    "#from scipy.interpolate import spline\n",
    "#from pandas import Series\n",
    "#import pandas as pd\n",
    "\n",
    "winValue = []\n",
    "numRounds = []\n",
    "winRates = []\n",
    "\n",
    "roundsPerGeneration = 10000\n",
    "winRateInterval = 200\n",
    "winValueFile = open(\"wins.txt\", \"r\") \n",
    "winValue =  winValueFile.readlines()\n",
    "rounds = len(winValue)\n",
    "numRounds = np.arange(0,rounds)\n",
    "\n",
    "\n",
    "\n",
    "x = np.array(numRounds)\n",
    "winValue = [x.strip() for x in winValue]\n",
    "y = list(map(float, np.array(winValue)))\n",
    "\n",
    "y_divider = np.linspace(0, 1, 100)\n",
    "\n",
    "axes = plt.gca()\n",
    "axes.set_xlim([0,rounds])\n",
    "axes.set_ylim([0.0,1.0])\n",
    "plt.plot(x, y,'b.',linewidth=2.0,) \n",
    "for i in range (0, rounds, int(roundsPerGeneration/winRateInterval)):\n",
    "    x_divider = np.ones(100) * i    \n",
    "    plt.plot(x_divider, y_divider,'r',linewidth=2.0,) \n",
    "    \n",
    "    \n",
    "plt.xlabel(str(winRateInterval) + ' Nbs. of Rounds')\n",
    "plt.ylabel('Win rate')\n",
    "plt.title('Win rate vs No. of Rounds')\n",
    "plt.show()"
   ]
  },
  {
   "cell_type": "code",
   "execution_count": 7,
   "metadata": {
    "scrolled": true
   },
   "outputs": [
    {
     "name": "stderr",
     "output_type": "stream",
     "text": [
      "D:\\Users\\Tyne\\anaconda3\\lib\\site-packages\\ipykernel_launcher.py:24: UserWarning: Attempting to set identical left == right == 0 results in singular transformations; automatically expanding.\n"
     ]
    },
    {
     "data": {
      "image/png": "[encoded data removed]",
      "text/plain": [
       "<Figure size 432x288 with 1 Axes>"
      ]
     },
     "metadata": {
      "needs_background": "light"
     },
     "output_type": "display_data"
    }
   ],
   "source": [
    "import numpy as np\n",
    "import matplotlib.pyplot as plt\n",
    "from matplotlib.legend_handler import HandlerLine2D\n",
    "#from scipy.interpolate import spline\n",
    "#from pandas import Series\n",
    "#import pandas as pd\n",
    "\n",
    "winValue = []\n",
    "numRounds = []\n",
    "winRates = []\n",
    "\n",
    "winValueFile = open(\"generationInfo.txt\", \"r\") \n",
    "winValue =  winValueFile.readlines()\n",
    "rounds = len(winValue)\n",
    "numRounds = np.arange(0,rounds)\n",
    "valueSum = 0\n",
    "for i in range(0, rounds):    \n",
    "    winRates.append(float(winValue[i]))  \n",
    "\n",
    "\n",
    "x = np.array(numRounds)\n",
    "y = np.array(winRates)\n",
    "axes = plt.gca()\n",
    "axes.set_xlim([0,rounds])\n",
    "#axes.set_ylim([-120,120])\n",
    "plt.plot(x, y,linewidth=2.0) \n",
    "plt.xlabel('No. of Generations')\n",
    "plt.ylabel('Fitness')\n",
    "plt.title('Fitness per Generation')\n",
    "plt.show()"
   ]
  },
  {
   "cell_type": "code",
   "execution_count": null,
   "metadata": {},
   "outputs": [],
   "source": []
  }
 ],
 "metadata": {
  "kernelspec": {
   "display_name": "Python 3",
   "language": "python",
   "name": "python3"
  },
  "language_info": {
   "codemirror_mode": {
    "name": "ipython",
    "version": 3
   },
   "file_extension": ".py",
   "mimetype": "text/x-python",
   "name": "python",
   "nbconvert_exporter": "python",
   "pygments_lexer": "ipython3",
   "version": "3.7.6"
  }
 },
 "nbformat": 4,
 "nbformat_minor": 2
}
